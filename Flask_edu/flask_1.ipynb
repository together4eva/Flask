{
 "cells": [
  {
   "cell_type": "code",
   "execution_count": null,
   "id": "ff332b70",
   "metadata": {},
   "outputs": [],
   "source": []
  },
  {
   "cell_type": "code",
   "execution_count": 1,
   "id": "8925c5c2",
   "metadata": {},
   "outputs": [],
   "source": [
    "# django\n",
    "# flask\n",
    "# fast.ai"
   ]
  },
  {
   "cell_type": "code",
   "execution_count": null,
   "id": "3332c49d",
   "metadata": {},
   "outputs": [],
   "source": []
  },
  {
   "cell_type": "code",
   "execution_count": 2,
   "id": "60ca418a",
   "metadata": {
    "collapsed": true
   },
   "outputs": [
    {
     "name": "stdout",
     "output_type": "stream",
     "text": [
      "Requirement already satisfied: flask in c:\\users\\yonsai\\anaconda3\\lib\\site-packages (1.1.2)\n",
      "Requirement already satisfied: Werkzeug>=0.15 in c:\\users\\yonsai\\anaconda3\\lib\\site-packages (from flask) (2.0.3)\n",
      "Requirement already satisfied: click>=5.1 in c:\\users\\yonsai\\anaconda3\\lib\\site-packages (from flask) (8.0.4)\n",
      "Requirement already satisfied: itsdangerous>=0.24 in c:\\users\\yonsai\\anaconda3\\lib\\site-packages (from flask) (2.0.1)\n",
      "Requirement already satisfied: Jinja2>=2.10.1 in c:\\users\\yonsai\\anaconda3\\lib\\site-packages (from flask) (2.11.3)\n",
      "Requirement already satisfied: colorama in c:\\users\\yonsai\\anaconda3\\lib\\site-packages (from click>=5.1->flask) (0.4.4)\n",
      "Requirement already satisfied: MarkupSafe>=0.23 in c:\\users\\yonsai\\anaconda3\\lib\\site-packages (from Jinja2>=2.10.1->flask) (2.0.1)\n"
     ]
    }
   ],
   "source": [
    "!pip install flask"
   ]
  },
  {
   "cell_type": "code",
   "execution_count": null,
   "id": "3b5b1e48",
   "metadata": {},
   "outputs": [],
   "source": []
  },
  {
   "cell_type": "code",
   "execution_count": 3,
   "id": "710c6e1a",
   "metadata": {},
   "outputs": [],
   "source": [
    "from flask import Flask"
   ]
  },
  {
   "cell_type": "code",
   "execution_count": 4,
   "id": "2e900c90",
   "metadata": {
    "collapsed": true
   },
   "outputs": [
    {
     "name": "stdout",
     "output_type": "stream",
     "text": [
      " * Serving Flask app \"__main__\" (lazy loading)\n",
      " * Environment: production\n",
      "\u001b[31m   WARNING: This is a development server. Do not use it in a production deployment.\u001b[0m\n",
      "\u001b[2m   Use a production WSGI server instead.\u001b[0m\n",
      " * Debug mode: off\n"
     ]
    },
    {
     "name": "stderr",
     "output_type": "stream",
     "text": [
      " * Running on http://127.0.0.1:8080/ (Press CTRL+C to quit)\n",
      "127.0.0.1 - - [29/Sep/2022 12:09:33] \"GET /hello_flask HTTP/1.1\" 200 -\n",
      "127.0.0.1 - - [29/Sep/2022 12:09:34] \"GET /favicon.ico HTTP/1.1\" 404 -\n"
     ]
    }
   ],
   "source": [
    "app = Flask(__name__)  # flask 객체 생성\n",
    "\n",
    "@app.route('/hello_flask')  # routing을 해주는 decorator\n",
    "def test():\n",
    "    return 'hello flask'\n",
    "\n",
    "if __name__ == '__main__':\n",
    "    app.run(host='127.0.0.1', port='8080')  \n",
    "    # flask web server load ip address, port num"
   ]
  },
  {
   "cell_type": "code",
   "execution_count": null,
   "id": "35ae5a25",
   "metadata": {},
   "outputs": [],
   "source": []
  },
  {
   "cell_type": "code",
   "execution_count": 5,
   "id": "8b4c41c5",
   "metadata": {
    "collapsed": true
   },
   "outputs": [
    {
     "name": "stdout",
     "output_type": "stream",
     "text": [
      " * Serving Flask app \"__main__\" (lazy loading)\n",
      " * Environment: production\n",
      "\u001b[31m   WARNING: This is a development server. Do not use it in a production deployment.\u001b[0m\n",
      "\u001b[2m   Use a production WSGI server instead.\u001b[0m\n",
      " * Debug mode: off\n"
     ]
    },
    {
     "name": "stderr",
     "output_type": "stream",
     "text": [
      " * Running on http://127.0.0.1:8080/ (Press CTRL+C to quit)\n",
      "127.0.0.1 - - [29/Sep/2022 12:18:58] \"GET / HTTP/1.1\" 200 -\n",
      "127.0.0.1 - - [29/Sep/2022 12:19:17] \"GET /hello HTTP/1.1\" 200 -\n",
      "127.0.0.1 - - [29/Sep/2022 12:19:38] \"GET /first HTTP/1.1\" 200 -\n"
     ]
    }
   ],
   "source": [
    "app = Flask(__name__)    # flask 객체 생성\n",
    "\n",
    "@app.route('/')   # routing\n",
    "def hello():\n",
    "    return '<h1>hello world</h1>'\n",
    "\n",
    "@app.route('/hello')\n",
    "def hello_flask():\n",
    "    return '<h2>hello flask!</h2>'\n",
    "\n",
    "@app.route('/first')\n",
    "def hello_first():\n",
    "    return '<h3>hello first</h3>'\n",
    "\n",
    "if __name__ == '__main__':\n",
    "    app.run(host='127.0.0.1', port='8080')   # flask server 실행"
   ]
  },
  {
   "cell_type": "code",
   "execution_count": null,
   "id": "8b7dc02d",
   "metadata": {},
   "outputs": [],
   "source": []
  },
  {
   "cell_type": "code",
   "execution_count": 14,
   "id": "af1bb2d9",
   "metadata": {},
   "outputs": [
    {
     "name": "stdout",
     "output_type": "stream",
     "text": [
      " * Serving Flask app \"__main__\" (lazy loading)\n",
      " * Environment: production\n",
      "\u001b[31m   WARNING: This is a development server. Do not use it in a production deployment.\u001b[0m\n",
      "\u001b[2m   Use a production WSGI server instead.\u001b[0m\n",
      " * Debug mode: off\n"
     ]
    },
    {
     "name": "stderr",
     "output_type": "stream",
     "text": [
      " * Running on http://127.0.0.1:8080/ (Press CTRL+C to quit)\n",
      "127.0.0.1 - - [29/Sep/2022 14:01:26] \"GET /profile/LLLLL HTTP/1.1\" 200 -\n",
      "127.0.0.1 - - [29/Sep/2022 14:01:35] \"GET /first/LLLLL HTTP/1.1\" 200 -\n"
     ]
    }
   ],
   "source": [
    "app = Flask(__name__)\n",
    "\n",
    "@app.route('/')\n",
    "def hello():\n",
    "    return '<h1> Hello World </h1>'\n",
    "\n",
    "@app.route('/profile/<username>')\n",
    "def get_profile(username):\n",
    "    return 'profile :' + username\n",
    "\n",
    "@app.route('/first/<username>')\n",
    "def get_first(username):\n",
    "    return '<h3>Hello ' + username + '!</h3>'\n",
    "\n",
    "if __name__ == '__main__':\n",
    "    app.run(host = '127.0.0.1', port='8080')"
   ]
  },
  {
   "cell_type": "code",
   "execution_count": null,
   "id": "3f50e784",
   "metadata": {},
   "outputs": [],
   "source": []
  },
  {
   "cell_type": "code",
   "execution_count": 9,
   "id": "bb361cf0",
   "metadata": {},
   "outputs": [],
   "source": [
    "from flask import jsonify, request"
   ]
  },
  {
   "cell_type": "code",
   "execution_count": null,
   "id": "2f24706f",
   "metadata": {},
   "outputs": [],
   "source": [
    "# rest api"
   ]
  },
  {
   "cell_type": "code",
   "execution_count": 20,
   "id": "edb5ecc6",
   "metadata": {},
   "outputs": [
    {
     "name": "stdout",
     "output_type": "stream",
     "text": [
      " * Serving Flask app \"__main__\" (lazy loading)\n",
      " * Environment: production\n",
      "\u001b[31m   WARNING: This is a development server. Do not use it in a production deployment.\u001b[0m\n",
      "\u001b[2m   Use a production WSGI server instead.\u001b[0m\n",
      " * Debug mode: off\n"
     ]
    },
    {
     "name": "stderr",
     "output_type": "stream",
     "text": [
      " * Running on http://127.0.0.1:8080/ (Press CTRL+C to quit)\n"
     ]
    }
   ],
   "source": [
    "app = Flask(__name__)\n",
    "\n",
    "@app.route('/json_test')\n",
    "def hello_json():\n",
    "    data = {'name': '대기', 'family':'강'}\n",
    "    return jsonify(data)\n",
    "\n",
    "@app.route('/server_info')\n",
    "def server_json():\n",
    "    data = {'server_name' : '0.0.0.0', 'server_port':'8080'}\n",
    "    return jsonify(data)\n",
    "\n",
    "if __name__ == '__main__':\n",
    "    app.run(host='127.0.0.1', port='8080')"
   ]
  },
  {
   "cell_type": "code",
   "execution_count": null,
   "id": "861a4a9d",
   "metadata": {},
   "outputs": [],
   "source": []
  },
  {
   "cell_type": "code",
   "execution_count": 19,
   "id": "ca58e9fc",
   "metadata": {},
   "outputs": [
    {
     "name": "stdout",
     "output_type": "stream",
     "text": [
      " * Serving Flask app \"__main__\" (lazy loading)\n",
      " * Environment: production\n",
      "\u001b[31m   WARNING: This is a development server. Do not use it in a production deployment.\u001b[0m\n",
      "\u001b[2m   Use a production WSGI server instead.\u001b[0m\n",
      " * Debug mode: off\n"
     ]
    },
    {
     "name": "stderr",
     "output_type": "stream",
     "text": [
      " * Running on all addresses.\n",
      "   WARNING: This is a development server. Do not use it in a production deployment.\n",
      " * Running on http://192.168.42.100:8080/ (Press CTRL+C to quit)\n"
     ]
    }
   ],
   "source": [
    "app = Flask(__name__)\n",
    "\n",
    "@app.route('/login')\n",
    "def login():\n",
    "    \n",
    "    username = request.args.get('user_name')\n",
    "    \n",
    "    if username == 'dave':\n",
    "        return_data = {'auth':'success'}\n",
    "    else:\n",
    "        return_data = {'auth':'failed'}\n",
    "        \n",
    "    return jsonify(return_data)\n",
    "\n",
    "if __name__ == '__main__':\n",
    "    app.run(host='0.0.0.0', port='8080')\n",
    "    "
   ]
  },
  {
   "cell_type": "code",
   "execution_count": 21,
   "id": "9349fe0e",
   "metadata": {},
   "outputs": [],
   "source": [
    "# 'http://192.168.42.100:8080/login?user_name=dave1'  => fail\n",
    "# 'http://192.168.42.100:8080/login?user_name=dave'  => success\n",
    "\n",
    "# get방식 요청 : 값을 전달 시 url에 첨부해서 전달\n",
    "# path?key1=val1&key2=val2&key3=val3..."
   ]
  },
  {
   "cell_type": "code",
   "execution_count": null,
   "id": "1660fa98",
   "metadata": {},
   "outputs": [],
   "source": []
  },
  {
   "cell_type": "code",
   "execution_count": 22,
   "id": "180de591",
   "metadata": {},
   "outputs": [],
   "source": [
    "# decorator"
   ]
  },
  {
   "cell_type": "code",
   "execution_count": 23,
   "id": "c2ef94d7",
   "metadata": {},
   "outputs": [
    {
     "name": "stdout",
     "output_type": "stream",
     "text": [
      "Dave login\n"
     ]
    }
   ],
   "source": [
    "def logger_login():\n",
    "    print('Dave login')\n",
    "    \n",
    "logger_login()"
   ]
  },
  {
   "cell_type": "code",
   "execution_count": null,
   "id": "6de638dd",
   "metadata": {},
   "outputs": [],
   "source": []
  },
  {
   "cell_type": "code",
   "execution_count": 24,
   "id": "535b900f",
   "metadata": {},
   "outputs": [],
   "source": [
    "import datetime"
   ]
  },
  {
   "cell_type": "code",
   "execution_count": 26,
   "id": "2f95621e",
   "metadata": {},
   "outputs": [],
   "source": [
    "# decorator : 함수를 매개변수로 받아서 새로운 함수를 리턴..\n",
    "\n",
    "def datetime_decorator(func):\n",
    "    def wrapper():\n",
    "        print('st_time : ', str(datetime.datetime.now()))\n",
    "        func()\n",
    "        print('ed_time \" ', str(datetime.datetime.now()))\n",
    "    return wrapper"
   ]
  },
  {
   "cell_type": "code",
   "execution_count": 27,
   "id": "4a98d91f",
   "metadata": {},
   "outputs": [],
   "source": [
    "wrapper = datetime_decorator(logger_login)"
   ]
  },
  {
   "cell_type": "code",
   "execution_count": 28,
   "id": "7fcea2bd",
   "metadata": {},
   "outputs": [
    {
     "name": "stdout",
     "output_type": "stream",
     "text": [
      "st_time :  2022-09-29 14:28:00.907321\n",
      "Dave login\n",
      "ed_time \"  2022-09-29 14:28:00.907321\n"
     ]
    }
   ],
   "source": [
    "wrapper()"
   ]
  },
  {
   "cell_type": "code",
   "execution_count": null,
   "id": "25b20175",
   "metadata": {},
   "outputs": [],
   "source": []
  },
  {
   "cell_type": "code",
   "execution_count": 31,
   "id": "910bd0a8",
   "metadata": {},
   "outputs": [],
   "source": [
    "def sum_to_100():\n",
    "    suma = 0\n",
    "    for i in range(100):\n",
    "        suma +=i\n",
    "    print(suma)"
   ]
  },
  {
   "cell_type": "code",
   "execution_count": 32,
   "id": "956c155b",
   "metadata": {},
   "outputs": [
    {
     "name": "stdout",
     "output_type": "stream",
     "text": [
      "st_time :  2022-09-29 14:31:59.097644\n",
      "4950\n",
      "ed_time \"  2022-09-29 14:31:59.097644\n"
     ]
    }
   ],
   "source": [
    "wrapper = datetime_decorator(sum_to_100)\n",
    "wrapper()"
   ]
  },
  {
   "cell_type": "code",
   "execution_count": null,
   "id": "c01e8c9c",
   "metadata": {},
   "outputs": [],
   "source": []
  },
  {
   "cell_type": "code",
   "execution_count": 36,
   "id": "39ccea43",
   "metadata": {},
   "outputs": [
    {
     "name": "stdout",
     "output_type": "stream",
     "text": [
      "4950\n"
     ]
    }
   ],
   "source": [
    "def sum_to_100():\n",
    "    suma = 0\n",
    "    for i in range(100):\n",
    "        suma +=i\n",
    "    print(suma)\n",
    "\n",
    "sum_to_100()"
   ]
  },
  {
   "cell_type": "code",
   "execution_count": null,
   "id": "ff5ffc4c",
   "metadata": {},
   "outputs": [],
   "source": []
  },
  {
   "cell_type": "code",
   "execution_count": 33,
   "id": "016d873c",
   "metadata": {},
   "outputs": [],
   "source": [
    "@datetime_decorator\n",
    "def sum_to_100():\n",
    "    suma = 0\n",
    "    for i in range(100):\n",
    "        suma +=i\n",
    "    print(suma)"
   ]
  },
  {
   "cell_type": "code",
   "execution_count": 34,
   "id": "a2804c45",
   "metadata": {},
   "outputs": [
    {
     "name": "stdout",
     "output_type": "stream",
     "text": [
      "st_time :  2022-09-29 14:32:44.843356\n",
      "4950\n",
      "ed_time \"  2022-09-29 14:32:44.843356\n"
     ]
    }
   ],
   "source": [
    "sum_to_100()"
   ]
  },
  {
   "cell_type": "code",
   "execution_count": null,
   "id": "e07884c7",
   "metadata": {},
   "outputs": [],
   "source": []
  },
  {
   "cell_type": "code",
   "execution_count": null,
   "id": "d2ea5728",
   "metadata": {},
   "outputs": [],
   "source": []
  },
  {
   "cell_type": "code",
   "execution_count": 43,
   "id": "7a72e03a",
   "metadata": {},
   "outputs": [],
   "source": [
    "def outer_func(function):\n",
    "    def inner_func(d1, d2):\n",
    "        if d2 ==0:\n",
    "            print('cannot be divided with zero')\n",
    "            return\n",
    "        function(d1, d2)\n",
    "    return inner_func"
   ]
  },
  {
   "cell_type": "code",
   "execution_count": 44,
   "id": "386cb65c",
   "metadata": {},
   "outputs": [],
   "source": [
    "@outer_func\n",
    "def divide(d1, d2):\n",
    "    print(d1/d2)"
   ]
  },
  {
   "cell_type": "code",
   "execution_count": 46,
   "id": "cdb2995d",
   "metadata": {},
   "outputs": [
    {
     "name": "stdout",
     "output_type": "stream",
     "text": [
      "cannot be divided with zero\n"
     ]
    }
   ],
   "source": [
    "divide(2,0)"
   ]
  },
  {
   "cell_type": "code",
   "execution_count": 47,
   "id": "9a83fe43",
   "metadata": {},
   "outputs": [
    {
     "name": "stdout",
     "output_type": "stream",
     "text": [
      "0.5\n"
     ]
    }
   ],
   "source": [
    "divide(2,4)"
   ]
  },
  {
   "cell_type": "code",
   "execution_count": null,
   "id": "5658d061",
   "metadata": {},
   "outputs": [],
   "source": []
  },
  {
   "cell_type": "code",
   "execution_count": null,
   "id": "4bdc039b",
   "metadata": {},
   "outputs": [],
   "source": []
  }
 ],
 "metadata": {
  "kernelspec": {
   "display_name": "Python 3 (ipykernel)",
   "language": "python",
   "name": "python3"
  },
  "language_info": {
   "codemirror_mode": {
    "name": "ipython",
    "version": 3
   },
   "file_extension": ".py",
   "mimetype": "text/x-python",
   "name": "python",
   "nbconvert_exporter": "python",
   "pygments_lexer": "ipython3",
   "version": "3.9.12"
  }
 },
 "nbformat": 4,
 "nbformat_minor": 5
}
